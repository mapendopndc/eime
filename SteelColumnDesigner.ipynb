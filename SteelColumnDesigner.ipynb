{
 "cells": [
  {
   "cell_type": "markdown",
   "id": "b3e23299-de35-45e9-847a-64ff402840f8",
   "metadata": {},
   "source": [
    "# Fatigue Design Aid\n",
    "Reinforced concrete design fatigue."
   ]
  },
  {
   "cell_type": "code",
   "execution_count": 1,
   "id": "4af18904",
   "metadata": {},
   "outputs": [],
   "source": [
    "# Setting up environment\n",
    "import Library_MN as lib\n",
    "from PhysicalQuantities import q\n",
    "import math"
   ]
  },
  {
   "cell_type": "markdown",
   "id": "9b801756",
   "metadata": {},
   "source": [
    "## Fatigue Calculations\n",
    "### Longitudinal Reinforcement Force"
   ]
  },
  {
   "cell_type": "code",
   "execution_count": 2,
   "id": "fd6b2e60",
   "metadata": {},
   "outputs": [
    {
     "data": {
      "text/latex": [
       "\\begin{align*}f_s&=\\frac{M_a}{A_s\\left (d-\\dfrac{\\bar{y} }{3} \\right )}=\\frac{48\\:\\text{kJ}}{5600\\:\\text{mm}^{2}\\left (419\\:\\text{mm}-\\dfrac{250\\:\\text{mm}}{3} \\right )}=25.54\\:\\text{MPa}\\\\\\text{where,}\\\\M_a&=\\text{factored moment} \\\\ A_s&=\\text{area of steel in longitudinal direction} \\\\ d&=\\text{depth of rebar in cross-section} \\\\ \\bar{y} &=\\text{neutral axis} \\\\ \\end{align*}"
      ],
      "text/plain": [
       "<IPython.core.display.Latex object>"
      ]
     },
     "execution_count": 2,
     "metadata": {},
     "output_type": "execute_result"
    }
   ],
   "source": [
    "M_a = 48*q.kN*q.m\n",
    "d = 419*q.mm\n",
    "y_bar = 250*q.mm\n",
    "A_s = 5600*q.mm**2\n",
    "f_s_long = lib.Fatigue.StressInLongitudinalSteel(M_a,A_s,d,y_bar).showIn(\"MPa\")\n",
    "f_s_long.display()"
   ]
  },
  {
   "cell_type": "markdown",
   "id": "8fdc1ca8",
   "metadata": {},
   "source": [
    "### Transverse Reinforcement Force"
   ]
  },
  {
   "cell_type": "code",
   "execution_count": 3,
   "id": "7b8a356b",
   "metadata": {},
   "outputs": [
    {
     "data": {
      "text/latex": [
       "\\begin{align*}n&=\\frac{d_v}{\\tan(\\theta  )\\cdot s}=\\frac{360\\:\\text{mm}}{\\tan(0.61 )\\cdot 150\\:\\text{mm}}=3.43\\tag{AISC.2.3} \\\\ f_s&=\\frac{V_s}{n\\cdot A_s}=\\frac{89\\:\\text{kN}}{3.43\\cdot 440\\:\\text{mm}^{2}}=59.01\\:\\text{MPa}\\\\\\text{where,}\\\\d_v&=\\text{depth of shear plane} \\\\ \\theta &=\\text{angle of shear plane} \\\\ s&=\\text{spacing of transverse bars} \\\\ V_s&=\\text{factored shear force} \\\\ A_s&=\\text{area of steel of stirrup} \\\\ n&=\\text{number of bars crossing shear plane} \\\\ \\end{align*}"
      ],
      "text/plain": [
       "<IPython.core.display.Latex object>"
      ]
     },
     "execution_count": 3,
     "metadata": {},
     "output_type": "execute_result"
    }
   ],
   "source": [
    "V_s = 89*q.kN\n",
    "A_s_stir = 440*q.mm**2\n",
    "d_v = 360*q.mm\n",
    "theta = math.radians(35)\n",
    "s = 150*q.mm\n",
    "\n",
    "n = lib.Fatigue.NumTransverseBars(d_v,theta,s)\n",
    "f_s_trans = lib.Fatigue.StressInTransverseSteel(V_s,A_s_stir,n).showIn(\"MPa\")\n",
    "f_s_trans.display()"
   ]
  },
  {
   "cell_type": "markdown",
   "id": "ec6c23ca",
   "metadata": {},
   "source": [
    "### All Checks Ran"
   ]
  },
  {
   "cell_type": "code",
   "execution_count": 4,
   "id": "0c7f5abf",
   "metadata": {},
   "outputs": [
    {
     "data": {
      "text/html": [
       "\n",
       "            <link rel=\"stylesheet\" type=\"text/css\" href=\"https://www.w3schools.com/w3css/4/w3.css\">\n",
       "            <style>\n",
       "                td, th {text-align: left !important;}\n",
       "                tr {background-color: transparent !important;}\n",
       "            </style>\n",
       "        <table><tr><th>Check</th><th>Utilization</th></tr><tr>\n",
       "                    <td>Fatigue in Longitudinal Members</td>\n",
       "                    <td>\n",
       "            <div class=\"w3-light-grey\" style=\"width:300px\">\n",
       "                <div class=\"w3-container w3-green w3-center\" style=\"width:39%\">39%</div>\n",
       "            </div>\n",
       "        </td>\n",
       "                </tr><tr>\n",
       "                    <td>Fatigue in Transverse Members</td>\n",
       "                    <td>\n",
       "            <div class=\"w3-light-grey\" style=\"width:300px\">\n",
       "                <div class=\"w3-container w3-red w3-center\" style=\"width:91%\">91%</div>\n",
       "            </div>\n",
       "        </td>\n",
       "                </tr></table>"
      ],
      "text/plain": [
       "<IPython.core.display.HTML object>"
      ]
     },
     "execution_count": 4,
     "metadata": {},
     "output_type": "execute_result"
    }
   ],
   "source": [
    "from eime import EngineeringChecks, SimpleCheck\n",
    "checks = EngineeringChecks()\n",
    "\n",
    "long_check = SimpleCheck(\"Fatigue in Longitudinal Members\", f_s_long.result, 65*q.MPa)\n",
    "trans_check = SimpleCheck(\"Fatigue in Transverse Members\", f_s_trans.result, 65*q.MPa)\n",
    "\n",
    "checks.addCheck(long_check)\n",
    "checks.addCheck(trans_check)\n",
    "\n",
    "checks.displayUtilizationTable()"
   ]
  }
 ],
 "metadata": {
  "kernelspec": {
   "display_name": "Python 3 (ipykernel)",
   "language": "python",
   "name": "python3"
  },
  "language_info": {
   "codemirror_mode": {
    "name": "ipython",
    "version": 3
   },
   "file_extension": ".py",
   "mimetype": "text/x-python",
   "name": "python",
   "nbconvert_exporter": "python",
   "pygments_lexer": "ipython3",
   "version": "3.11.7"
  }
 },
 "nbformat": 4,
 "nbformat_minor": 5
}
